{
 "cells": [
  {
   "cell_type": "code",
   "execution_count": 1,
   "metadata": {
    "collapsed": true
   },
   "outputs": [],
   "source": [
    "import numpy as np\n",
    "\n",
    "from scipy import ndimage\n",
    "from scipy import misc\n",
    "from scipy import linalg\n",
    "from scipy import argsort\n",
    "from scipy import signal\n",
    "from scipy import interpolate\n",
    "import itertools\n",
    "import os\n",
    "import glob\n",
    "from copy import copy\n",
    "\n",
    "from mpl_toolkits.axes_grid1 import make_axes_locatable\n",
    "\n",
    "import h5py as h5\n",
    "\n",
    "from pylab import *\n",
    "\n",
    "%matplotlib inline\n",
    "rcParams['figure.figsize'] = 12, 8  # that's default image size for this interactive session"
   ]
  },
  {
   "cell_type": "code",
   "execution_count": 2,
   "metadata": {
    "collapsed": true
   },
   "outputs": [],
   "source": [
    "%load_ext autoreload\n",
    "%autoreload 2"
   ]
  },
  {
   "cell_type": "code",
   "execution_count": 3,
   "metadata": {
    "collapsed": true
   },
   "outputs": [],
   "source": [
    "import fibers\n",
    "from progress import ProgressBar"
   ]
  },
  {
   "cell_type": "code",
   "execution_count": 4,
   "metadata": {
    "collapsed": true
   },
   "outputs": [],
   "source": [
    "from pyvisfile.vtk import write_structured_grid"
   ]
  },
  {
   "cell_type": "markdown",
   "metadata": {},
   "source": [
    "# CT image data file"
   ]
  },
  {
   "cell_type": "code",
   "execution_count": 5,
   "metadata": {
    "collapsed": true
   },
   "outputs": [],
   "source": [
    "infilename = 'Drerio4.h5'"
   ]
  },
  {
   "cell_type": "code",
   "execution_count": 6,
   "metadata": {
    "collapsed": true
   },
   "outputs": [],
   "source": [
    "scale = 0.011         # mm per voxel (11um)"
   ]
  },
  {
   "cell_type": "code",
   "execution_count": 7,
   "metadata": {
    "collapsed": false
   },
   "outputs": [
    {
     "name": "stdout",
     "output_type": "stream",
     "text": [
      "(690, 1235, 2237)\n"
     ]
    }
   ],
   "source": [
    "infile = h5.File(infilename,'r')\n",
    "imgdata = infile['image']\n",
    "print imgdata.shape"
   ]
  },
  {
   "cell_type": "code",
   "execution_count": 8,
   "metadata": {
    "collapsed": true
   },
   "outputs": [],
   "source": [
    "gridsize = 64\n",
    "gridoverlap = 0.5\n",
    "\n",
    "gridi = np.arange(gridsize,imgdata.shape[0]-gridsize,int(np.floor(gridsize*(1-gridoverlap))))\n",
    "gridj = np.arange(gridsize,imgdata.shape[1]-gridsize,int(np.floor(gridsize*(1-gridoverlap))))\n",
    "gridk = np.arange(gridsize,imgdata.shape[2]-gridsize,int(np.floor(gridsize*(1-gridoverlap))))"
   ]
  },
  {
   "cell_type": "code",
   "execution_count": 9,
   "metadata": {
    "collapsed": true
   },
   "outputs": [],
   "source": [
    "grid = np.zeros((3,len(gridi),len(gridj),len(gridk)),dtype=np.int)\n",
    "\n",
    "#broadcast the grid locations across the new matrix\n",
    "grid[0,:,:,:] = gridi[:,np.newaxis,np.newaxis]\n",
    "grid[1,:,:,:] = gridj[np.newaxis,:,np.newaxis]\n",
    "grid[2,:,:,:] = gridk[np.newaxis,np.newaxis,:]"
   ]
  },
  {
   "cell_type": "markdown",
   "metadata": {},
   "source": [
    "# Output file"
   ]
  },
  {
   "cell_type": "code",
   "execution_count": 10,
   "metadata": {
    "collapsed": true
   },
   "outputs": [],
   "source": [
    "outfilename = 'Drerio4-data3.h5'"
   ]
  },
  {
   "cell_type": "code",
   "execution_count": 11,
   "metadata": {
    "collapsed": true
   },
   "outputs": [],
   "source": [
    "outfile = h5.File(outfilename,'w-')"
   ]
  },
  {
   "cell_type": "markdown",
   "metadata": {},
   "source": [
    "## Process data"
   ]
  },
  {
   "cell_type": "code",
   "execution_count": 12,
   "metadata": {
    "collapsed": true
   },
   "outputs": [],
   "source": [
    "means = np.zeros(grid.shape[1:])"
   ]
  },
  {
   "cell_type": "code",
   "execution_count": 13,
   "metadata": {
    "collapsed": false
   },
   "outputs": [
    {
     "name": "stdout",
     "output_type": "stream",
     "text": [
      "[------------------------------------------------------------>] 100%  2m 1sec elapsed, 0sec remaining\n"
     ]
    }
   ],
   "source": [
    "gridsz2 = gridsize/2\n",
    "with ProgressBar(total=np.prod(grid.shape[1:])) as p:\n",
    "    for i,j,k in itertools.product(xrange(grid.shape[1]),\n",
    "                                   xrange(grid.shape[2]),\n",
    "                                   xrange(grid.shape[3])):\n",
    "        rng = [slice(grid1-gridsz2,grid1+gridsz2) for grid1 in grid[:,i,j,k]]\n",
    "        I1 = imgdata[rng[0],rng[1],rng[2]].astype(float)/65536\n",
    "\n",
    "        means[i,j,k] = np.mean(I1)\n",
    "        p.update(1)"
   ]
  },
  {
   "cell_type": "code",
   "execution_count": 14,
   "metadata": {
    "collapsed": false
   },
   "outputs": [
    {
     "data": {
      "text/plain": [
       "<HDF5 dataset \"means\": shape (40, 74, 136), type \"<f8\">"
      ]
     },
     "execution_count": 14,
     "metadata": {},
     "output_type": "execute_result"
    }
   ],
   "source": [
    "outfile.create_dataset('grid', data=grid, chunks=True)\n",
    "outfile.create_dataset('means', data=means, chunks=True)"
   ]
  },
  {
   "cell_type": "code",
   "execution_count": 15,
   "metadata": {
    "collapsed": true
   },
   "outputs": [],
   "source": [
    "def process_volume(grid, gridsize, insz, good=None, progress=None):\n",
    "    eigvals = np.zeros((3,)+grid.shape[1:])\n",
    "    eigvecs = np.zeros((3,3)+grid.shape[1:])\n",
    "    gridsz2 = (gridsize+1)//2\n",
    "\n",
    "    #equivalent of a three way nested loop\n",
    "    for i,j,k in itertools.product(xrange(grid.shape[1]),\n",
    "                                   xrange(grid.shape[2]),\n",
    "                                   xrange(grid.shape[3])):\n",
    "        \n",
    "        if (good is None) or good[i,j,k]:\n",
    "            rng = [slice(grid1-gridsz2,grid1+gridsz2) for grid1 in grid[:,i,j,k]]\n",
    "            I1 = imgdata[rng[0],rng[1],rng[2]].astype(float)/65536\n",
    "\n",
    "            vr1,w1 = fibers.fiber_angle(I1, normalize=True)\n",
    "\n",
    "            eigvals[:,i,j,k] = real(w1)\n",
    "            eigvecs[:,:,i,j,k] = vr1                \n",
    "\n",
    "        if progress is not None:\n",
    "            progress.update(1)\n",
    "    \n",
    "    return eigvecs, eigvals"
   ]
  },
  {
   "cell_type": "code",
   "execution_count": 16,
   "metadata": {
    "collapsed": true
   },
   "outputs": [],
   "source": [
    "good = means > 0.5*np.mean(means)"
   ]
  },
  {
   "cell_type": "code",
   "execution_count": 17,
   "metadata": {
    "collapsed": false
   },
   "outputs": [
    {
     "name": "stdout",
     "output_type": "stream",
     "text": [
      "[------------------------------------------------------------>] 100%  11m 37sec elapsed, 0sec remaining\n"
     ]
    }
   ],
   "source": [
    "with ProgressBar(total=np.prod(grid.shape[1:])) as p:\n",
    "    ev,w = process_volume(grid, gridsize, insz=None, good=good, progress=p)"
   ]
  },
  {
   "cell_type": "code",
   "execution_count": 18,
   "metadata": {
    "collapsed": false
   },
   "outputs": [
    {
     "data": {
      "text/plain": [
       "<HDF5 dataset \"eigvecs\": shape (3, 3, 40, 74, 136), type \"<f8\">"
      ]
     },
     "execution_count": 18,
     "metadata": {},
     "output_type": "execute_result"
    }
   ],
   "source": [
    "outfile.create_dataset('eigvals',data=w,chunks=True)\n",
    "outfile.create_dataset('eigvecs',data=ev,chunks=True)"
   ]
  },
  {
   "cell_type": "code",
   "execution_count": 19,
   "metadata": {
    "collapsed": true
   },
   "outputs": [],
   "source": [
    "outfile.close()"
   ]
  },
  {
   "cell_type": "markdown",
   "metadata": {},
   "source": [
    "# Validate and smooth the data"
   ]
  },
  {
   "cell_type": "markdown",
   "metadata": {},
   "source": [
    "Load from HDF5 output file"
   ]
  },
  {
   "cell_type": "code",
   "execution_count": 10,
   "metadata": {
    "collapsed": true
   },
   "outputs": [],
   "source": [
    "datafilename = 'Drerio4-data64x64x64.h5'"
   ]
  },
  {
   "cell_type": "code",
   "execution_count": 11,
   "metadata": {
    "collapsed": false
   },
   "outputs": [],
   "source": [
    "datafile = h5.File(datafilename,'a')"
   ]
  },
  {
   "cell_type": "code",
   "execution_count": 12,
   "metadata": {
    "collapsed": true
   },
   "outputs": [],
   "source": [
    "grid = np.array(datafile['grid'])\n",
    "intensity = np.array(datafile['means'])\n",
    "eigvals = np.array(datafile['eigvals'])\n",
    "eigvecs = np.array(datafile['eigvecs'])"
   ]
  },
  {
   "cell_type": "markdown",
   "metadata": {},
   "source": [
    "Flip eigenvectors with negative z"
   ]
  },
  {
   "cell_type": "code",
   "execution_count": 13,
   "metadata": {
    "collapsed": true
   },
   "outputs": [],
   "source": [
    "for i,j,k,m in itertools.product(xrange(grid.shape[1]),\n",
    "                                 xrange(grid.shape[2]),\n",
    "                                 xrange(grid.shape[3]),\n",
    "                                 xrange(3)):\n",
    "    if eigvecs[2,m,i,j,k] < 0:\n",
    "        eigvecs[:,m,i,j,k] = -eigvecs[:,m,i,j,k]"
   ]
  },
  {
   "cell_type": "code",
   "execution_count": 14,
   "metadata": {
    "collapsed": false
   },
   "outputs": [
    {
     "data": {
      "text/plain": [
       "<HDF5 dataset \"eigvecs\": shape (3, 3, 18, 35, 66), type \"<f8\">"
      ]
     },
     "execution_count": 14,
     "metadata": {},
     "output_type": "execute_result"
    }
   ],
   "source": [
    "if 'eigvecs' in datafile:\n",
    "    del datafile['eigvecs']\n",
    "    \n",
    "datafile.create_dataset('eigvecs', data=eigvecs, chunks=True)"
   ]
  },
  {
   "cell_type": "markdown",
   "metadata": {},
   "source": [
    "Now eliminate vectors in which angle to the z axis is too large"
   ]
  },
  {
   "cell_type": "code",
   "execution_count": 15,
   "metadata": {
    "collapsed": true
   },
   "outputs": [],
   "source": [
    "angz = np.arccos(eigvecs[2,0,...],np.ones_like(eigvecs[2,0,...]))"
   ]
  },
  {
   "cell_type": "code",
   "execution_count": 16,
   "metadata": {
    "collapsed": false
   },
   "outputs": [
    {
     "data": {
      "text/plain": [
       "(18, 35, 66)"
      ]
     },
     "execution_count": 16,
     "metadata": {},
     "output_type": "execute_result"
    }
   ],
   "source": [
    "angz.shape"
   ]
  },
  {
   "cell_type": "code",
   "execution_count": 17,
   "metadata": {
    "collapsed": false
   },
   "outputs": [
    {
     "data": {
      "image/png": "[encoded data removed]",
      "text/plain": [
       "<matplotlib.figure.Figure at 0x10d906c10>"
      ]
     },
     "metadata": {},
     "output_type": "display_data"
    }
   ],
   "source": [
    "hist(angz[0,...].flatten(),50)\n",
    "show()"
   ]
  },
  {
   "cell_type": "code",
   "execution_count": 18,
   "metadata": {
    "collapsed": false
   },
   "outputs": [
    {
     "name": "stderr",
     "output_type": "stream",
     "text": [
      "/Users/etytel01/anaconda/lib/python2.7/site-packages/ipykernel/__main__.py:2: RuntimeWarning: invalid value encountered in divide\n",
      "  from ipykernel import kernelapp as app\n",
      "/Users/etytel01/anaconda/lib/python2.7/site-packages/ipykernel/__main__.py:2: RuntimeWarning: invalid value encountered in less\n",
      "  from ipykernel import kernelapp as app\n"
     ]
    }
   ],
   "source": [
    "usevec2 = np.logical_and(eigvecs[2,0,...] < 0.5, \n",
    "                         eigvals[1,...]/eigvals[0,...] < 1.5,\n",
    "                        eigvecs[2,1,...] > 0.5)"
   ]
  },
  {
   "cell_type": "code",
   "execution_count": 19,
   "metadata": {
    "collapsed": false
   },
   "outputs": [
    {
     "name": "stdout",
     "output_type": "stream",
     "text": [
      "Use eigvec 2 for 6077 (15%) of vectors\n"
     ]
    }
   ],
   "source": [
    "print \"Use eigvec 2 for {} ({:.0f}%) of vectors\".format(np.sum(usevec2), float(np.sum(usevec2))/eigvecs[0,0,...].size * 100.0)"
   ]
  },
  {
   "cell_type": "code",
   "execution_count": 20,
   "metadata": {
    "collapsed": true
   },
   "outputs": [],
   "source": [
    "angmax = 60 * np.pi/180"
   ]
  },
  {
   "cell_type": "code",
   "execution_count": 21,
   "metadata": {
    "collapsed": true
   },
   "outputs": [],
   "source": [
    "badangle = np.logical_and(angz > angmax, np.logical_not(usevec2))"
   ]
  },
  {
   "cell_type": "code",
   "execution_count": 22,
   "metadata": {
    "collapsed": false
   },
   "outputs": [
    {
     "name": "stdout",
     "output_type": "stream",
     "text": [
      "21148 (51%) of vectors eliminated because of bad angles\n"
     ]
    }
   ],
   "source": [
    "print \"{} ({:.0f}%) of vectors eliminated because of bad angles\".format(np.sum(badangle),\n",
    "                                                                    float(np.sum(badangle))/eigvecs[0,0,...].size * 100.0)"
   ]
  },
  {
   "cell_type": "markdown",
   "metadata": {},
   "source": [
    "## Median filter"
   ]
  },
  {
   "cell_type": "markdown",
   "metadata": {},
   "source": [
    "Look at the median vector in a neighborhood and eliminate vectors that are different by some angle"
   ]
  },
  {
   "cell_type": "markdown",
   "metadata": {},
   "source": [
    "Neighborhood size (nbh x nbh x nbh)"
   ]
  },
  {
   "cell_type": "code",
   "execution_count": 23,
   "metadata": {
    "collapsed": true
   },
   "outputs": [],
   "source": [
    "nbh = 5\n",
    "nbh2 = nbh / 2"
   ]
  },
  {
   "cell_type": "code",
   "execution_count": 24,
   "metadata": {
    "collapsed": true
   },
   "outputs": [],
   "source": [
    "eigvecsmed = np.zeros_like(eigvecs)"
   ]
  },
  {
   "cell_type": "code",
   "execution_count": 25,
   "metadata": {
    "collapsed": false
   },
   "outputs": [],
   "source": [
    "eigvecs2 = copy(eigvecs)\n",
    "eigvecs2[:,0,badangle] = np.nan\n",
    "eigvecs2[:,0,usevec2] = eigvecs2[:,2,usevec2]"
   ]
  },
  {
   "cell_type": "code",
   "execution_count": 26,
   "metadata": {
    "collapsed": false
   },
   "outputs": [
    {
     "name": "stdout",
     "output_type": "stream",
     "text": [
      "[----------------------------------------------------->       ] 88%  3sec elapsed, 0sec remaining\n"
     ]
    }
   ],
   "source": [
    "with ProgressBar(total=np.prod([d-2*nbh2+1 for d in grid.shape[1:]])) as p:\n",
    "    for i,j,k in itertools.product(np.arange(nbh2,eigvecs.shape[2]-nbh2),\n",
    "                                  np.arange(nbh2,eigvecs.shape[3]-nbh2),\n",
    "                                  np.arange(nbh2,eigvecs.shape[4]-nbh2)):\n",
    "        #i,j,k = (22,50,100)\n",
    "        nbhvec = eigvecs2[:, 0, i-nbh2:i+nbh2+1, j-nbh2:j+nbh2+1, k-nbh2:k+nbh2+1]\n",
    "        nbhmed = [np.nanmedian(nbhvec[a,...]) for a in range(3)]\n",
    "        if any(np.isfinite(nbhmed)):\n",
    "            eigvecsmed[:,0,i,j,k] = nbhmed\n",
    "        else:\n",
    "            eigvecsmed[:,0,i,j,k] = np.nan\n",
    "        p.update(1)"
   ]
  },
  {
   "cell_type": "code",
   "execution_count": 27,
   "metadata": {
    "collapsed": true
   },
   "outputs": [],
   "source": [
    "eigvecsmedlen = np.linalg.norm(eigvecsmed,axis=0, keepdims=True)"
   ]
  },
  {
   "cell_type": "code",
   "execution_count": 28,
   "metadata": {
    "collapsed": false
   },
   "outputs": [
    {
     "name": "stderr",
     "output_type": "stream",
     "text": [
      "/Users/etytel01/anaconda/lib/python2.7/site-packages/ipykernel/__main__.py:1: RuntimeWarning: invalid value encountered in divide\n",
      "  if __name__ == '__main__':\n"
     ]
    }
   ],
   "source": [
    "eigvecsmed = eigvecsmed / eigvecsmedlen"
   ]
  },
  {
   "cell_type": "code",
   "execution_count": 29,
   "metadata": {
    "collapsed": false
   },
   "outputs": [],
   "source": [
    "eigvecsmed[np.logical_not(isfinite(eigvecsmed))] = np.nan"
   ]
  },
  {
   "cell_type": "markdown",
   "metadata": {},
   "source": [
    "## Save medians"
   ]
  },
  {
   "cell_type": "code",
   "execution_count": 30,
   "metadata": {
    "collapsed": true
   },
   "outputs": [],
   "source": [
    "if 'eigvecsmed' in datafile:\n",
    "    del datafile['eigvecsmed']"
   ]
  },
  {
   "cell_type": "code",
   "execution_count": 31,
   "metadata": {
    "collapsed": false
   },
   "outputs": [],
   "source": [
    "d = datafile.create_dataset('eigvecsmed',data=eigvecsmed, chunks=True)\n",
    "d.attrs['neighborhood'] = nbh"
   ]
  },
  {
   "cell_type": "code",
   "execution_count": 32,
   "metadata": {
    "collapsed": true
   },
   "outputs": [],
   "source": [
    "datafile.close()"
   ]
  },
  {
   "cell_type": "markdown",
   "metadata": {},
   "source": [
    "## Load medians from file"
   ]
  },
  {
   "cell_type": "code",
   "execution_count": 33,
   "metadata": {
    "collapsed": true
   },
   "outputs": [],
   "source": [
    "datafile = h5.File(datafilename,'a')"
   ]
  },
  {
   "cell_type": "code",
   "execution_count": 34,
   "metadata": {
    "collapsed": false
   },
   "outputs": [],
   "source": [
    "eigvecsmed = np.array(datafile['eigvecsmed'])"
   ]
  },
  {
   "cell_type": "code",
   "execution_count": 35,
   "metadata": {
    "collapsed": false
   },
   "outputs": [
    {
     "name": "stderr",
     "output_type": "stream",
     "text": [
      "/Users/etytel01/anaconda/lib/python2.7/site-packages/ipykernel/__main__.py:2: RuntimeWarning: invalid value encountered in less\n",
      "  from ipykernel import kernelapp as app\n"
     ]
    }
   ],
   "source": [
    "dmedang1 = np.sum(eigvecs[:,0,...] * eigvecsmed[:,0,...], axis=0)\n",
    "dmedang1[dmedang1 < 0.0] = -dmedang1[dmedang1 < 0.0]"
   ]
  },
  {
   "cell_type": "code",
   "execution_count": 36,
   "metadata": {
    "collapsed": false
   },
   "outputs": [
    {
     "data": {
      "image/png": "[encoded data removed]",
      "text/plain": [
       "<matplotlib.figure.Figure at 0x10e4014d0>"
      ]
     },
     "metadata": {},
     "output_type": "display_data"
    }
   ],
   "source": [
    "hist(dmedang1[np.isfinite(dmedang1)], bins=50)\n",
    "show()"
   ]
  },
  {
   "cell_type": "code",
   "execution_count": 37,
   "metadata": {
    "collapsed": false
   },
   "outputs": [
    {
     "name": "stderr",
     "output_type": "stream",
     "text": [
      "/Users/etytel01/anaconda/lib/python2.7/site-packages/ipykernel/__main__.py:2: RuntimeWarning: invalid value encountered in less\n",
      "  from ipykernel import kernelapp as app\n"
     ]
    }
   ],
   "source": [
    "dmedang2 = np.sum(eigvecs[:,1,...] * eigvecsmed[:,0,...], axis=0)\n",
    "dmedang2[dmedang2 < 0.0] = -dmedang2[dmedang2 < 0.0]"
   ]
  },
  {
   "cell_type": "code",
   "execution_count": 38,
   "metadata": {
    "collapsed": false
   },
   "outputs": [
    {
     "name": "stderr",
     "output_type": "stream",
     "text": [
      "/Users/etytel01/anaconda/lib/python2.7/site-packages/ipykernel/__main__.py:1: RuntimeWarning: invalid value encountered in less\n",
      "  if __name__ == '__main__':\n",
      "/Users/etytel01/anaconda/lib/python2.7/site-packages/ipykernel/__main__.py:1: RuntimeWarning: invalid value encountered in greater\n",
      "  if __name__ == '__main__':\n"
     ]
    }
   ],
   "source": [
    "usevec2 = np.logical_and(dmedang1 < 0.5, dmedang2 > 0.5)"
   ]
  },
  {
   "cell_type": "code",
   "execution_count": 39,
   "metadata": {
    "collapsed": false
   },
   "outputs": [
    {
     "name": "stderr",
     "output_type": "stream",
     "text": [
      "/Users/etytel01/anaconda/lib/python2.7/site-packages/ipykernel/__main__.py:1: RuntimeWarning: invalid value encountered in less\n",
      "  if __name__ == '__main__':\n"
     ]
    }
   ],
   "source": [
    "badmedian = np.logical_and(dmedang1 < 0.5, np.logical_not(usevec2))"
   ]
  },
  {
   "cell_type": "code",
   "execution_count": 40,
   "metadata": {
    "collapsed": false
   },
   "outputs": [
    {
     "name": "stdout",
     "output_type": "stream",
     "text": [
      "3510 (17%) of vectors swapped with 2nd vector\n",
      "7873 (39%) of vectors eliminated because of deviation from the median\n"
     ]
    }
   ],
   "source": [
    "print \"{} ({:.0f}%) of vectors swapped with 2nd vector\".format(\n",
    "    np.sum(usevec2), float(np.sum(usevec2))/np.sum(np.isfinite(eigvecs2[0,0,...])) * 100.0)\n",
    "\n",
    "print \"{} ({:.0f}%) of vectors eliminated because of deviation from the median\".format(\n",
    "    np.sum(badmedian), float(np.sum(badmedian))/np.sum(np.isfinite(eigvecs2[0,0,...])) * 100.0)\n"
   ]
  },
  {
   "cell_type": "code",
   "execution_count": 41,
   "metadata": {
    "collapsed": true
   },
   "outputs": [],
   "source": [
    "eigvecsmooth = copy(eigvecs)\n",
    "eigvecsmooth[:,0,badangle] = np.nan\n",
    "eigvecsmooth[:,0,usevec2] = eigvecsmooth[:,1,usevec2]\n",
    "eigvecsmooth[:,0,badmedian] = eigvecsmed[:,0,badmedian]"
   ]
  },
  {
   "cell_type": "code",
   "execution_count": 42,
   "metadata": {
    "collapsed": true
   },
   "outputs": [],
   "source": [
    "if 'eigvecsmooth' in datafile:\n",
    "    del datafile['eigvecsmooth']\n",
    "if 'badangle' in datafile:\n",
    "    del datafile['badangle']\n",
    "if 'usevec2' in datafile:\n",
    "    del datafile['usevec2']\n",
    "if 'badmedian' in datafile:\n",
    "    del datafile['badmedian']"
   ]
  },
  {
   "cell_type": "code",
   "execution_count": 43,
   "metadata": {
    "collapsed": false
   },
   "outputs": [
    {
     "data": {
      "text/plain": [
       "<HDF5 dataset \"badmedian\": shape (18, 35, 66), type \"|b1\">"
      ]
     },
     "execution_count": 43,
     "metadata": {},
     "output_type": "execute_result"
    }
   ],
   "source": [
    "datafile.create_dataset('eigvecsmooth',data=eigvecsmooth, chunks=True)\n",
    "datafile.create_dataset('badangle', data=badangle, chunks=True)\n",
    "datafile.create_dataset('usevec2', data=usevec2, chunks=True)\n",
    "datafile.create_dataset('badmedian', data=badmedian, chunks=True)"
   ]
  },
  {
   "cell_type": "code",
   "execution_count": 44,
   "metadata": {
    "collapsed": true
   },
   "outputs": [],
   "source": [
    "datafile.close()"
   ]
  },
  {
   "cell_type": "markdown",
   "metadata": {},
   "source": [
    "# Save as VTK"
   ]
  },
  {
   "cell_type": "markdown",
   "metadata": {},
   "source": [
    "Load in from the HDF5 output file"
   ]
  },
  {
   "cell_type": "code",
   "execution_count": 47,
   "metadata": {
    "collapsed": true
   },
   "outputs": [],
   "source": [
    "datafilename = 'Drerio4-data2.h5'"
   ]
  },
  {
   "cell_type": "code",
   "execution_count": 48,
   "metadata": {
    "collapsed": true
   },
   "outputs": [],
   "source": [
    "datafile = h5.File(datafilename,'r')"
   ]
  },
  {
   "cell_type": "code",
   "execution_count": 49,
   "metadata": {
    "collapsed": true
   },
   "outputs": [],
   "source": [
    "grid = np.array(datafile['grid'])\n",
    "intensity = np.array(datafile['means'])\n",
    "eigvals = np.array(datafile['eigvals'])\n",
    "eigvecs = np.array(datafile['eigvecs'])"
   ]
  },
  {
   "cell_type": "code",
   "execution_count": 50,
   "metadata": {
    "collapsed": true
   },
   "outputs": [],
   "source": [
    "vec1 = np.empty(3,dtype=object)\n",
    "vec1[0] = eigvecs[0,0,...]\n",
    "vec1[1] = eigvecs[1,0,...]\n",
    "vec1[2] = eigvecs[2,0,...]"
   ]
  },
  {
   "cell_type": "code",
   "execution_count": 51,
   "metadata": {
    "collapsed": true
   },
   "outputs": [],
   "source": [
    "vecsm = np.empty(3,dtype=object)\n",
    "vecsm[0] = eigvecsmooth[0,0,...]\n",
    "vecsm[1] = eigvecsmooth[1,0,...]\n",
    "vecsm[2] = eigvecsmooth[2,0,...]"
   ]
  },
  {
   "cell_type": "code",
   "execution_count": 53,
   "metadata": {
    "collapsed": false
   },
   "outputs": [],
   "source": [
    "angxz = np.arctan2(eigvecsmooth[0,0,...],eigvecsmooth[2,0,...])\n",
    "angyz = np.arctan2(eigvecsmooth[1,0,...],eigvecsmooth[2,0,...])"
   ]
  },
  {
   "cell_type": "code",
   "execution_count": 54,
   "metadata": {
    "collapsed": true
   },
   "outputs": [],
   "source": [
    "vtkfile = 'Drerio4data.vts'"
   ]
  },
  {
   "cell_type": "code",
   "execution_count": 55,
   "metadata": {
    "collapsed": false
   },
   "outputs": [],
   "source": [
    "eigvals[eigvals==0] = np.nan\n",
    "rc = -1.0/eigvals\n",
    "rc[np.isnan(eigvals)] = 0.0"
   ]
  },
  {
   "cell_type": "code",
   "execution_count": 56,
   "metadata": {
    "collapsed": false
   },
   "outputs": [],
   "source": [
    "if os.path.exists(vtkfile):\n",
    "    os.unlink(vtkfile)\n",
    "write_structured_grid(vtkfile, grid, point_data=[(\"intensity\", intensity), \n",
    "                                                 (\"w1\",rc[0,...]), (\"w2\",rc[1,...]), (\"w3\",rc[2,...]),\n",
    "                                                 (\"angxz\",angxz),(\"angyz\",angyz),\n",
    "                                                 (\"vec1\",vec1),(\"vecsm\",vecsm),\n",
    "                                                 (\"badang\",badangle.astype(float)),(\"badmed\",badmedian.astype(float))])"
   ]
  },
  {
   "cell_type": "markdown",
   "metadata": {
    "collapsed": true
   },
   "source": [
    "# Crop the CT images"
   ]
  },
  {
   "cell_type": "code",
   "execution_count": 69,
   "metadata": {
    "collapsed": true
   },
   "outputs": [],
   "source": [
    "imgdir = 'Drerio4_crop'\n",
    "basename = 'Drerio4_crop_'"
   ]
  },
  {
   "cell_type": "code",
   "execution_count": 72,
   "metadata": {
    "collapsed": true
   },
   "outputs": [],
   "source": [
    "os.mkdir(imgdir)"
   ]
  },
  {
   "cell_type": "code",
   "execution_count": 70,
   "metadata": {
    "collapsed": true
   },
   "outputs": [],
   "source": [
    "inputdir = 'Drerio_4_recon'\n",
    "files = glob.glob(os.path.join(inputdir,'Lewis_Drerio*.tif'))\n",
    "files = files[0:-1]"
   ]
  },
  {
   "cell_type": "code",
   "execution_count": 71,
   "metadata": {
    "collapsed": true
   },
   "outputs": [],
   "source": [
    "crop = (slice(280,970),slice(80,-1))"
   ]
  },
  {
   "cell_type": "code",
   "execution_count": 74,
   "metadata": {
    "collapsed": false
   },
   "outputs": [
    {
     "name": "stdout",
     "output_type": "stream",
     "text": [
      "[------------------------------------------------------------>] 100%  2m 53sec elapsed, 0sec remaining\n"
     ]
    }
   ],
   "source": [
    "with ProgressBar(total=len(files)) as p:\n",
    "    for i,filename in enumerate(files):\n",
    "        I1 = misc.imread(files[i])\n",
    "        \n",
    "        outname = os.path.join(imgdir,'{}{:04d}.tif'.format(basename,i))\n",
    "        misc.imsave(outname, I1[crop])\n",
    "        \n",
    "        p.update(1)"
   ]
  },
  {
   "cell_type": "code",
   "execution_count": null,
   "metadata": {
    "collapsed": true
   },
   "outputs": [],
   "source": []
  }
 ],
 "metadata": {
  "kernelspec": {
   "display_name": "Python 2",
   "language": "python",
   "name": "python2"
  },
  "language_info": {
   "codemirror_mode": {
    "name": "ipython",
    "version": 2
   },
   "file_extension": ".py",
   "mimetype": "text/x-python",
   "name": "python",
   "nbconvert_exporter": "python",
   "pygments_lexer": "ipython2",
   "version": "2.7.11"
  }
 },
 "nbformat": 4,
 "nbformat_minor": 0
}
