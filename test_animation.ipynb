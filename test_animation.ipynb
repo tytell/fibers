{
 "cells": [
  {
   "cell_type": "code",
   "execution_count": 14,
   "metadata": {
    "collapsed": false
   },
   "outputs": [],
   "source": [
    "import numpy as np\n",
    "import matplotlib\n",
    "matplotlib.use(\"Qt4Agg\")\n",
    "import matplotlib.pyplot as plt\n",
    "import matplotlib.animation as animation\n",
    "\n",
    "plt.rcParams['animation.ffmpeg_path'] = '/usr/local/bin/ffmpeg'\n",
    "\n",
    "\n",
    "def update_line(num, data, line):\n",
    "    line.set_data(data[..., :num])\n",
    "    return line,\n",
    "\n",
    "# Set up formatting for the movie files\n",
    "Writer = animation.writers['ffmpeg']\n",
    "writer = Writer(fps=15, metadata=dict(artist='Me'), bitrate=1800)\n",
    "\n",
    "\n",
    "fig1 = plt.figure()\n",
    "\n",
    "x = np.linspace(0,25)\n",
    "data = np.row_stack((x,x**2))\n",
    "\n",
    "l, = plt.plot([], [], 'r-')\n",
    "plt.xlim(0, 25)\n",
    "plt.ylim(0, 25**2)\n",
    "plt.xlabel('x')\n",
    "plt.title('test')\n",
    "line_ani = animation.FuncAnimation(fig1, update_line, 25, fargs=(data, l),\n",
    "                                   interval=50, blit=True)\n",
    "plt.show()\n",
    "line_ani.save('lines.mp4', writer='ffmpeg', fps=15)"
   ]
  },
  {
   "cell_type": "code",
   "execution_count": 15,
   "metadata": {
    "collapsed": false
   },
   "outputs": [
    {
     "data": {
      "text/plain": [
       "array([[  0.00000000e+00,   5.10204082e-01,   1.02040816e+00,\n",
       "          1.53061224e+00,   2.04081633e+00,   2.55102041e+00,\n",
       "          3.06122449e+00,   3.57142857e+00,   4.08163265e+00,\n",
       "          4.59183673e+00,   5.10204082e+00,   5.61224490e+00,\n",
       "          6.12244898e+00,   6.63265306e+00,   7.14285714e+00,\n",
       "          7.65306122e+00,   8.16326531e+00,   8.67346939e+00,\n",
       "          9.18367347e+00,   9.69387755e+00,   1.02040816e+01,\n",
       "          1.07142857e+01,   1.12244898e+01,   1.17346939e+01,\n",
       "          1.22448980e+01,   1.27551020e+01,   1.32653061e+01,\n",
       "          1.37755102e+01,   1.42857143e+01,   1.47959184e+01,\n",
       "          1.53061224e+01,   1.58163265e+01,   1.63265306e+01,\n",
       "          1.68367347e+01,   1.73469388e+01,   1.78571429e+01,\n",
       "          1.83673469e+01,   1.88775510e+01,   1.93877551e+01,\n",
       "          1.98979592e+01,   2.04081633e+01,   2.09183673e+01,\n",
       "          2.14285714e+01,   2.19387755e+01,   2.24489796e+01,\n",
       "          2.29591837e+01,   2.34693878e+01,   2.39795918e+01,\n",
       "          2.44897959e+01,   2.50000000e+01],\n",
       "       [  0.00000000e+00,   2.60308205e-01,   1.04123282e+00,\n",
       "          2.34277384e+00,   4.16493128e+00,   6.50770512e+00,\n",
       "          9.37109538e+00,   1.27551020e+01,   1.66597251e+01,\n",
       "          2.10849646e+01,   2.60308205e+01,   3.14972928e+01,\n",
       "          3.74843815e+01,   4.39920866e+01,   5.10204082e+01,\n",
       "          5.85693461e+01,   6.66389005e+01,   7.52290712e+01,\n",
       "          8.43398584e+01,   9.39712620e+01,   1.04123282e+02,\n",
       "          1.14795918e+02,   1.25989171e+02,   1.37703040e+02,\n",
       "          1.49937526e+02,   1.62692628e+02,   1.75968347e+02,\n",
       "          1.89764681e+02,   2.04081633e+02,   2.18919200e+02,\n",
       "          2.34277384e+02,   2.50156185e+02,   2.66555602e+02,\n",
       "          2.83475635e+02,   3.00916285e+02,   3.18877551e+02,\n",
       "          3.37359434e+02,   3.56361933e+02,   3.75885048e+02,\n",
       "          3.95928780e+02,   4.16493128e+02,   4.37578092e+02,\n",
       "          4.59183673e+02,   4.81309871e+02,   5.03956685e+02,\n",
       "          5.27124115e+02,   5.50812162e+02,   5.75020825e+02,\n",
       "          5.99750104e+02,   6.25000000e+02]])"
      ]
     },
     "execution_count": 15,
     "metadata": {},
     "output_type": "execute_result"
    }
   ],
   "source": [
    "data"
   ]
  },
  {
   "cell_type": "code",
   "execution_count": null,
   "metadata": {
    "collapsed": true
   },
   "outputs": [],
   "source": []
  }
 ],
 "metadata": {
  "kernelspec": {
   "display_name": "Python 2",
   "language": "python",
   "name": "python2"
  },
  "language_info": {
   "codemirror_mode": {
    "name": "ipython",
    "version": 2
   },
   "file_extension": ".py",
   "mimetype": "text/x-python",
   "name": "python",
   "nbconvert_exporter": "python",
   "pygments_lexer": "ipython2",
   "version": "2.7.11"
  }
 },
 "nbformat": 4,
 "nbformat_minor": 0
}
